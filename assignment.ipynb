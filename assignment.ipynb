{
  "nbformat": 4,
  "nbformat_minor": 0,
  "metadata": {
    "colab": {
      "provenance": [],
      "authorship_tag": "ABX9TyNQnsxApUesJaPucMIrKN+v",
      "include_colab_link": true
    },
    "kernelspec": {
      "name": "python3",
      "display_name": "Python 3"
    },
    "language_info": {
      "name": "python"
    }
  },
  "cells": [
    {
      "cell_type": "markdown",
      "metadata": {
        "id": "view-in-github",
        "colab_type": "text"
      },
      "source": [
        "<a href=\"https://colab.research.google.com/github/Rokaiya186/django_with_python_by_edge/blob/main/assignment.ipynb\" target=\"_parent\"><img src=\"https://colab.research.google.com/assets/colab-badge.svg\" alt=\"Open In Colab\"/></a>"
      ]
    },
    {
      "cell_type": "code",
      "execution_count": null,
      "metadata": {
        "colab": {
          "base_uri": "https://localhost:8080/"
        },
        "id": "8aBNS9kar4Ll",
        "outputId": "68cdd904-141a-45cf-b938-e5633f8a98f9"
      },
      "outputs": [
        {
          "output_type": "stream",
          "name": "stdout",
          "text": [
            "apple\n",
            "banana\n",
            "cherry\n"
          ]
        }
      ],
      "source": [
        "fruits = [\"apple\", \"banana\", \"cherry\"]\n",
        "x, y, z = fruits\n",
        "print(x)\n",
        "print(y)\n",
        "print(z)"
      ]
    },
    {
      "cell_type": "code",
      "source": [
        "name = \"Rokaiya\"\n",
        "age = \"24\"\n",
        "txt = 'Her name is {} and she is {} years old'\n",
        "print(txt.format(name, age))\n",
        "print(f'Her name is {name} and she is {age} years old')"
      ],
      "metadata": {
        "colab": {
          "base_uri": "https://localhost:8080/"
        },
        "id": "_Bz2HUlF01At",
        "outputId": "11769803-3d04-481b-9014-ffff39d6c861"
      },
      "execution_count": null,
      "outputs": [
        {
          "output_type": "stream",
          "name": "stdout",
          "text": [
            "Her name is Rokaiya and she is 24 years old\n",
            "Her name is Rokaiya and she is 24 years old\n"
          ]
        }
      ]
    },
    {
      "cell_type": "code",
      "source": [
        "x = \"awesome\"\n",
        "def myfunc():\n",
        "  global x\n",
        "  x = \"fantastic\"\n",
        "myfunc()\n",
        "print(\"Python is \" + x)\n"
      ],
      "metadata": {
        "colab": {
          "base_uri": "https://localhost:8080/"
        },
        "id": "7X7ZLm5-4WJu",
        "outputId": "16c20c15-4ed1-4f95-d63c-91974b75af5c"
      },
      "execution_count": null,
      "outputs": [
        {
          "output_type": "stream",
          "name": "stdout",
          "text": [
            "Python is fantastic\n"
          ]
        }
      ]
    },
    {
      "cell_type": "code",
      "source": [
        "x = \"q\"\n",
        "y = \"r\"\n",
        " text = text.format(x,colon, y )\n",
        "print(text)"
      ],
      "metadata": {
        "colab": {
          "base_uri": "https://localhost:8080/",
          "height": 106
        },
        "id": "Km-PakUbFxS2",
        "outputId": "072d0dc5-2b38-47da-e7b7-26acfcef8ec6"
      },
      "execution_count": null,
      "outputs": [
        {
          "output_type": "error",
          "ename": "IndentationError",
          "evalue": "unexpected indent (<ipython-input-2-4a47b8181f2a>, line 3)",
          "traceback": [
            "\u001b[0;36m  File \u001b[0;32m\"<ipython-input-2-4a47b8181f2a>\"\u001b[0;36m, line \u001b[0;32m3\u001b[0m\n\u001b[0;31m    text = text.format(x,colon, y )\u001b[0m\n\u001b[0m    ^\u001b[0m\n\u001b[0;31mIndentationError\u001b[0m\u001b[0;31m:\u001b[0m unexpected indent\n"
          ]
        }
      ]
    },
    {
      "cell_type": "code",
      "source": [
        "\n",
        "\n",
        "# Define variables with different data types\n",
        "integer_number = 10          # Integer\n",
        "float_number = 3.14          # Float\n",
        "string_text = \"Hello, Python!\"  # String\n",
        "\n",
        "# Perform operations using these variables\n",
        "sum_result = integer_number + float_number  # Add integer and float\n",
        "product_result = integer_number * 2         # Multiply integer\n",
        "\n",
        "# Print the variables and their data types\n",
        "print(\"Integer Number:\", integer_number, \"| Type:\", type(integer_number))\n",
        "print(\"Float Number:\", float_number, \"| Type:\", type(float_number))\n",
        "print(\"String Text:\", string_text, \"| Type:\", type(string_text))\n",
        "\n",
        "# Print the results of operations\n",
        "print(\"Sum of Integer and Float:\", sum_result)\n",
        "print(\"Product of Integer and 2:\", product_result)\n"
      ],
      "metadata": {
        "colab": {
          "base_uri": "https://localhost:8080/"
        },
        "id": "wZNYAZaHdD6J",
        "outputId": "1c8f97db-28d5-4c6d-c460-623908944476"
      },
      "execution_count": 1,
      "outputs": [
        {
          "output_type": "stream",
          "name": "stdout",
          "text": [
            "Integer Number: 10 | Type: <class 'int'>\n",
            "Float Number: 3.14 | Type: <class 'float'>\n",
            "String Text: Hello, Python! | Type: <class 'str'>\n",
            "Sum of Integer and Float: 13.14\n",
            "Product of Integer and 2: 20\n"
          ]
        }
      ]
    },
    {
      "cell_type": "code",
      "source": [
        "a = [i for i in range(1, 12, 3)]\n",
        "print(a)"
      ],
      "metadata": {
        "colab": {
          "base_uri": "https://localhost:8080/"
        },
        "id": "6FCWhoMLfVLJ",
        "outputId": "e7fdc7cf-3526-409e-9001-44a6dadd7f37"
      },
      "execution_count": null,
      "outputs": [
        {
          "output_type": "stream",
          "name": "stdout",
          "text": [
            "[1, 4, 7, 10]\n"
          ]
        }
      ]
    },
    {
      "cell_type": "code",
      "source": [
        "li = []\n",
        "j = 0\n",
        "for i in range(6):\n",
        "  i+=j\n",
        "  j+i\n",
        "  complex(i,j)\n"
      ],
      "metadata": {
        "id": "fAD9AS5efWfW"
      },
      "execution_count": null,
      "outputs": []
    },
    {
      "cell_type": "code",
      "source": [
        "j = 0\n",
        "for i in range(6):\n",
        "  j+=1\n",
        "  print(j)"
      ],
      "metadata": {
        "colab": {
          "base_uri": "https://localhost:8080/"
        },
        "id": "O4FKRLu3ex3p",
        "outputId": "0201dec3-f95b-4316-84be-5f3ad83573ad"
      },
      "execution_count": null,
      "outputs": [
        {
          "output_type": "stream",
          "name": "stdout",
          "text": [
            "1\n",
            "2\n",
            "3\n",
            "4\n",
            "5\n",
            "6\n"
          ]
        }
      ]
    }
  ]
}